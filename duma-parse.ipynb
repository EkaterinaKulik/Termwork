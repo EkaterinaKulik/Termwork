{
 "cells": [
  {
   "cell_type": "code",
   "execution_count": 1,
   "metadata": {},
   "outputs": [],
   "source": [
    "import requests\n",
    "import itertools\n",
    "import pandas as pd\n",
    "from bs4 import BeautifulSoup"
   ]
  },
  {
   "cell_type": "markdown",
   "metadata": {},
   "source": [
    "### Пример одной ссылки – одного заседания"
   ]
  },
  {
   "cell_type": "code",
   "execution_count": 2,
   "metadata": {},
   "outputs": [],
   "source": [
    "url = \"http://transcript.duma.gov.ru/node/4680/\""
   ]
  },
  {
   "cell_type": "code",
   "execution_count": 3,
   "metadata": {},
   "outputs": [],
   "source": [
    "# забираем данные со страницы\n",
    "\n",
    "page = requests.get(url)\n",
    "soup = BeautifulSoup(page.text)"
   ]
  },
  {
   "cell_type": "code",
   "execution_count": 4,
   "metadata": {},
   "outputs": [],
   "source": [
    "# session_name: название заседания – будет служить названием Excel-файла\n",
    "# div: раздел с текстом протокола\n",
    "# parts: все абзацы протокола\n",
    "\n",
    "session_name = soup.find(\"h1\").text\n",
    "div = soup.find(\"div\", {\"id\" : \"selectable-content\"})\n",
    "parts = div.find_all(\"p\")"
   ]
  },
  {
   "cell_type": "code",
   "execution_count": 5,
   "metadata": {},
   "outputs": [],
   "source": [
    "# находим индексы элементов, где есть полужирный шрифт\n",
    "# полужирным выделены имена выступающих\n",
    "\n",
    "indices = [0]\n",
    "for i, part in enumerate(parts):\n",
    "    if part.find(\"b\") is not None:\n",
    "        indices.append(i)"
   ]
  },
  {
   "cell_type": "code",
   "execution_count": 6,
   "metadata": {},
   "outputs": [],
   "source": [
    "# создаем пары последовательных индексов,\n",
    "# чтобы сегментировать список абзацев,\n",
    "# объединить абзацы между именами выступающих, \n",
    "# например, с 1 по 12, с 12 по 26 итд\n",
    "\n",
    "a, b = itertools.tee(indices)\n",
    "next(b, None)\n",
    "res = list(zip(a, b))"
   ]
  },
  {
   "cell_type": "code",
   "execution_count": 7,
   "metadata": {},
   "outputs": [],
   "source": [
    "# segments: список списков\n",
    "# в каждом списке в segments на первом месте – имя, \n",
    "# далее – текст (с именем вместе, там везде по-разному может обрезаться)\n",
    "\n",
    "segments = []\n",
    "for r in res:\n",
    "    segments.append(parts[r[0]:r[1]])    "
   ]
  },
  {
   "cell_type": "code",
   "execution_count": 8,
   "metadata": {},
   "outputs": [],
   "source": [
    "# filtered: отбираем все списки длины более 1\n",
    "#  чтобы убрать лишние технические заметки\n",
    "\n",
    "filtered = list(filter(lambda x : len(x) > 1, segments))"
   ]
  },
  {
   "cell_type": "code",
   "execution_count": 9,
   "metadata": {},
   "outputs": [],
   "source": [
    "# pairs: список пар, на первом месте имя (имена на этом этапе не уникальны),\n",
    "# на втором – слова выступающих\n",
    "\n",
    "# names – список уникальный имен – фамилия и инициалы, без партий и проч\n",
    "# отсортирован по алфавиту\n",
    "\n",
    "pairs = [(f[0].find(\"b\").text, \"\".join([t.text for t in f[0:]])) for f in filtered]\n",
    "names = sorted(list(set([p[0].strip(\",\") for p in pairs])))"
   ]
  },
  {
   "cell_type": "code",
   "execution_count": 10,
   "metadata": {},
   "outputs": [],
   "source": [
    "# создаем словарь data, ключи – уникальные имена\n",
    "# к значениям в цикле добавляем фрагменты речи\n",
    "\n",
    "data = dict(zip(names, [\"\"] * len(names)))\n",
    "\n",
    "for name in names:\n",
    "    for p1, p2 in pairs:\n",
    "        if p1.startswith(name):\n",
    "            data[name] += p2"
   ]
  },
  {
   "cell_type": "code",
   "execution_count": 11,
   "metadata": {},
   "outputs": [],
   "source": [
    "# преобразуем словарь в датафрейм\n",
    "\n",
    "df = pd.DataFrame(data.items(), columns = [\"name\", \"words\"])"
   ]
  },
  {
   "cell_type": "markdown",
   "metadata": {},
   "source": [
    "### Общий случай"
   ]
  },
  {
   "cell_type": "code",
   "execution_count": 12,
   "metadata": {},
   "outputs": [],
   "source": [
    "# пишем функцию на основе кода выше\n",
    "# на входе – ссылка на страницу с заседанием\n",
    "# на выходе – в файл Excel сохраняется датафрейм,\n",
    "# название файла = дата заседания\n",
    "# одна строка датафрейма = один выступающий\n",
    "\n",
    "def get_words(url):\n",
    "    page = requests.get(url)\n",
    "    soup = BeautifulSoup(page.text)\n",
    "    session_name = soup.find(\"h1\").text\n",
    "    div = soup.find(\"div\", {\"id\" : \"selectable-content\"})\n",
    "    parts = div.find_all(\"p\")\n",
    "    \n",
    "    indices = [0]\n",
    "    for i, part in enumerate(parts):\n",
    "        if part.find(\"b\") is not None:\n",
    "            indices.append(i)\n",
    "            \n",
    "    a, b = itertools.tee(indices)\n",
    "    next(b, None)\n",
    "    res = list(zip(a, b))\n",
    "    \n",
    "    segments = []\n",
    "    for r in res:\n",
    "        segments.append(parts[r[0]:r[1]])\n",
    "\n",
    "    filtered = list(filter(lambda x : len(x) > 1, segments))\n",
    "    pairs = [(f[0].find(\"b\").text, \"\".join([t.text for t in f[0:]])) for f in filtered]\n",
    "    names = sorted(list(set([p[0].strip(\",\") for p in pairs])))\n",
    "    \n",
    "    data = dict(zip(names, [\"\"] * len(names)))\n",
    "\n",
    "    for name in names:\n",
    "        for p1, p2 in pairs:\n",
    "            if p1.startswith(name):\n",
    "                data[name] += p2\n",
    "                \n",
    "    df = pd.DataFrame(data.items(), columns = [\"name\", \"words\"])\n",
    "    df.to_excel(session_name + \".xlsx\", encoding ='UTF-8')"
   ]
  },
  {
   "cell_type": "code",
   "execution_count": 13,
   "metadata": {},
   "outputs": [],
   "source": [
    "# проверяем на новой ссылке\n",
    "\n",
    "get_words(\"http://transcript.duma.gov.ru/node/4587/\")"
   ]
  },
  {
   "cell_type": "code",
   "execution_count": 14,
   "metadata": {},
   "outputs": [],
   "source": [
    "#1-ая сессия ГД седьмого созыва (осень 2016 г.)\n",
    "urls_0 = ['http://transcript.duma.gov.ru/node/4521/', 'http://transcript.duma.gov.ru/node/4565/', 'http://transcript.duma.gov.ru/node/4524/',\n",
    "         'http://transcript.duma.gov.ru/node/4553/', 'http://transcript.duma.gov.ru/node/4556/', 'http://transcript.duma.gov.ru/node/4562/',\n",
    "         'http://transcript.duma.gov.ru/node/4571/', 'http://transcript.duma.gov.ru/node/4527/', 'http://transcript.duma.gov.ru/node/4530/',\n",
    "         'http://transcript.duma.gov.ru/node/4534/', 'http://transcript.duma.gov.ru/node/4538/', 'http://transcript.duma.gov.ru/node/4541/',\n",
    "         'http://transcript.duma.gov.ru/node/4544/', 'http://transcript.duma.gov.ru/node/4547/', 'http://transcript.duma.gov.ru/node/4550/',\n",
    "         'http://transcript.duma.gov.ru/node/4558/', 'http://transcript.duma.gov.ru/node/4568/']"
   ]
  },
  {
   "cell_type": "code",
   "execution_count": 15,
   "metadata": {},
   "outputs": [],
   "source": [
    "#2-ая сессия ГД седьмого созыва (весна 2017 г.)\n",
    "urls_1 = ['http://transcript.duma.gov.ru/node/4581/', 'http://transcript.duma.gov.ru/node/4597/', 'http://transcript.duma.gov.ru/node/4667/',\n",
    "       'http://transcript.duma.gov.ru/node/4680/', 'http://transcript.duma.gov.ru/node/4699/', 'http://transcript.duma.gov.ru/node/4715/',\n",
    "       'http://transcript.duma.gov.ru/node/4576/', 'http://transcript.duma.gov.ru/node/4579/', 'http://transcript.duma.gov.ru/node/4595/',\n",
    "       'http://transcript.duma.gov.ru/node/4618/', 'http://transcript.duma.gov.ru/node/4624/', 'http://transcript.duma.gov.ru/node/4626/',\n",
    "       'http://transcript.duma.gov.ru/node/4629/', 'http://transcript.duma.gov.ru/node/4665/', 'http://transcript.duma.gov.ru/node/4665/',\n",
    "       'http://transcript.duma.gov.ru/node/4672/', 'http://transcript.duma.gov.ru/node/4677/', 'http://transcript.duma.gov.ru/node/4704/',\n",
    "       'http://transcript.duma.gov.ru/node/4708/', 'http://transcript.duma.gov.ru/node/4584/', 'http://transcript.duma.gov.ru/node/4587/',\n",
    "       'http://transcript.duma.gov.ru/node/4593/', 'http://transcript.duma.gov.ru/node/4600/', 'http://transcript.duma.gov.ru/node/4606/',\n",
    "       'http://transcript.duma.gov.ru/node/4610/', 'http://transcript.duma.gov.ru/node/4611/', 'http://transcript.duma.gov.ru/node/4615/',\n",
    "       'http://transcript.duma.gov.ru/node/4620/', 'http://transcript.duma.gov.ru/node/4638/', 'http://transcript.duma.gov.ru/node/4645/']"
   ]
  },
  {
   "cell_type": "code",
   "execution_count": 16,
   "metadata": {},
   "outputs": [],
   "source": [
    "#3-ая сессия ГД седьмого созыва (осень 2017 г.)\n",
    "urls_2 = ['http://transcript.duma.gov.ru/node/4769/', 'http://transcript.duma.gov.ru/node/4766/', 'http://transcript.duma.gov.ru/node/4760/',\n",
    "         'http://transcript.duma.gov.ru/node/4778/', 'http://transcript.duma.gov.ru/node/4803/', 'http://transcript.duma.gov.ru/node/4730/',\n",
    "         'http://transcript.duma.gov.ru/node/4747/', 'http://transcript.duma.gov.ru/node/4784/', 'http://transcript.duma.gov.ru/node/4787/',\n",
    "         'http://transcript.duma.gov.ru/node/4791/', 'http://transcript.duma.gov.ru/node/4794/', 'http://transcript.duma.gov.ru/node/4729/',\n",
    "         'http://transcript.duma.gov.ru/node/4733/', 'http://transcript.duma.gov.ru/node/4738/', 'http://transcript.duma.gov.ru/node/4741/',\n",
    "         'http://transcript.duma.gov.ru/node/4744/', 'http://transcript.duma.gov.ru/node/4753/', 'http://transcript.duma.gov.ru/node/4754/',\n",
    "         'http://transcript.duma.gov.ru/node/4757/', 'http://transcript.duma.gov.ru/node/4763/', 'http://transcript.duma.gov.ru/node/4772/',\n",
    "         'http://transcript.duma.gov.ru/node/4775/', 'http://transcript.duma.gov.ru/node/4783/', 'http://transcript.duma.gov.ru/node/4797/',\n",
    "         'http://transcript.duma.gov.ru/node/4800/', 'http://transcript.duma.gov.ru/node/4807/', 'http://transcript.duma.gov.ru/node/4810/',\n",
    "         'http://transcript.duma.gov.ru/node/4813/', 'http://transcript.duma.gov.ru/node/4718/', 'http://transcript.duma.gov.ru/node/4735/']"
   ]
  },
  {
   "cell_type": "code",
   "execution_count": 17,
   "metadata": {},
   "outputs": [],
   "source": [
    "#4-ая сессия ГД седьмого созыва (весна 2018 г.)\n",
    "urls_3 = ['http://transcript.duma.gov.ru/node/4892/', 'http://transcript.duma.gov.ru/node/4922/', 'http://transcript.duma.gov.ru/node/4928/',\n",
    "         'http://transcript.duma.gov.ru/node/4816/', 'http://transcript.duma.gov.ru/node/4819/', 'http://transcript.duma.gov.ru/node/4840/',\n",
    "         'http://transcript.duma.gov.ru/node/4949/', 'http://transcript.duma.gov.ru/node/4955/', 'http://transcript.duma.gov.ru/node/4977/',\n",
    "         'http://transcript.duma.gov.ru/node/4837/', 'http://transcript.duma.gov.ru/node/4846/', 'http://transcript.duma.gov.ru/node/4855/',\n",
    "         'http://transcript.duma.gov.ru/node/4858/', 'http://transcript.duma.gov.ru/node/4881/', 'http://transcript.duma.gov.ru/node/4884/',\n",
    "         'http://transcript.duma.gov.ru/node/4886/', 'http://transcript.duma.gov.ru/node/4898/', 'http://transcript.duma.gov.ru/node/4901/',\n",
    "         'http://transcript.duma.gov.ru/node/4904/', 'http://transcript.duma.gov.ru/node/4907/', 'http://transcript.duma.gov.ru/node/4910/',\n",
    "         'http://transcript.duma.gov.ru/node/4916/', 'http://transcript.duma.gov.ru/node/4925/', 'http://transcript.duma.gov.ru/node/4934/',\n",
    "         'http://transcript.duma.gov.ru/node/4952/', 'http://transcript.duma.gov.ru/node/4822/', 'http://transcript.duma.gov.ru/node/4825/',\n",
    "         'http://transcript.duma.gov.ru/node/4828/', 'http://transcript.duma.gov.ru/node/4831/', 'http://transcript.duma.gov.ru/node/4834/']"
   ]
  },
  {
   "cell_type": "code",
   "execution_count": 18,
   "metadata": {},
   "outputs": [],
   "source": [
    "#5-ая сессия ГД седьмого созыва (осень 2018 г.)\n",
    "urls_4 = ['http://transcript.duma.gov.ru/node/5054/', 'http://transcript.duma.gov.ru/node/5038/', 'http://transcript.duma.gov.ru/node/4995/',\n",
    "         'http://transcript.duma.gov.ru/node/5026/', 'http://transcript.duma.gov.ru/node/5048/', 'http://transcript.duma.gov.ru/node/4989/',\n",
    "         'http://transcript.duma.gov.ru/node/5001/', 'http://transcript.duma.gov.ru/node/5005/', 'http://transcript.duma.gov.ru/node/5008/',\n",
    "         'http://transcript.duma.gov.ru/node/5014/', 'http://transcript.duma.gov.ru/node/5045/', 'http://transcript.duma.gov.ru/node/5051/',\n",
    "         'http://transcript.duma.gov.ru/node/5063/', 'http://transcript.duma.gov.ru/node/5075/', 'http://transcript.duma.gov.ru/node/4962/',\n",
    "         'http://transcript.duma.gov.ru/node/4965/', 'http://transcript.duma.gov.ru/node/4983/', 'http://transcript.duma.gov.ru/node/4992/',\n",
    "         'http://transcript.duma.gov.ru/node/5011/', 'http://transcript.duma.gov.ru/node/5017/', 'http://transcript.duma.gov.ru/node/5020/',\n",
    "         'http://transcript.duma.gov.ru/node/5023/', 'http://transcript.duma.gov.ru/node/5057/', 'http://transcript.duma.gov.ru/node/5078/',\n",
    "         'http://transcript.duma.gov.ru/node/4968/', 'http://transcript.duma.gov.ru/node/4971/', 'http://transcript.duma.gov.ru/node/4986/',\n",
    "         'http://transcript.duma.gov.ru/node/5029/', 'http://transcript.duma.gov.ru/node/5035/', 'http://transcript.duma.gov.ru/node/5042/',\n",
    "         'http://transcript.duma.gov.ru/node/5060/', 'http://transcript.duma.gov.ru/node/5066/', 'http://transcript.duma.gov.ru/node/5069/',\n",
    "         'http://transcript.duma.gov.ru/node/5072/', 'http://transcript.duma.gov.ru/node/5032/']"
   ]
  },
  {
   "cell_type": "code",
   "execution_count": 19,
   "metadata": {},
   "outputs": [],
   "source": [
    "#6-ая сессия ГД седьмого созыва (весна 2019 г.)\n",
    "urls_5 = ['http://transcript.duma.gov.ru/node/5186/', 'http://transcript.duma.gov.ru/node/5112/', 'http://transcript.duma.gov.ru/node/5167/',\n",
    "         'http://transcript.duma.gov.ru/node/5183/', 'http://transcript.duma.gov.ru/node/5211/', 'http://transcript.duma.gov.ru/node/5217/',\n",
    "         'http://transcript.duma.gov.ru/node/5115/', 'http://transcript.duma.gov.ru/node/5235/', 'http://transcript.duma.gov.ru/node/5176/',\n",
    "         'http://transcript.duma.gov.ru/node/5198/', 'http://transcript.duma.gov.ru/node/5201/', 'http://transcript.duma.gov.ru/node/5238/',\n",
    "         'http://transcript.duma.gov.ru/node/5241/', 'http://transcript.duma.gov.ru/node/5082/', 'http://transcript.duma.gov.ru/node/5091/',\n",
    "         'http://transcript.duma.gov.ru/node/5103/', 'http://transcript.duma.gov.ru/node/5145/', 'http://transcript.duma.gov.ru/node/5189/',\n",
    "         'http://transcript.duma.gov.ru/node/5195/', 'http://transcript.duma.gov.ru/node/5205/', 'http://transcript.duma.gov.ru/node/5214/',\n",
    "         'http://transcript.duma.gov.ru/node/5224/', 'http://transcript.duma.gov.ru/node/5244/', 'http://transcript.duma.gov.ru/node/5253/',\n",
    "         'http://transcript.duma.gov.ru/node/5094/', 'http://transcript.duma.gov.ru/node/5097/', 'http://transcript.duma.gov.ru/node/5118/',\n",
    "         'http://transcript.duma.gov.ru/node/5127/', 'http://transcript.duma.gov.ru/node/5130/', 'http://transcript.duma.gov.ru/node/5139/',\n",
    "         'http://transcript.duma.gov.ru/node/5151/', 'http://transcript.duma.gov.ru/node/5157/', 'http://transcript.duma.gov.ru/node/5158/',\n",
    "         'http://transcript.duma.gov.ru/node/5164/', 'http://transcript.duma.gov.ru/node/5173/', 'http://transcript.duma.gov.ru/node/5179/',\n",
    "         'http://transcript.duma.gov.ru/node/5208/', 'http://transcript.duma.gov.ru/node/5223/', 'http://transcript.duma.gov.ru/node/5229/',\n",
    "         'http://transcript.duma.gov.ru/node/5250/', 'http://transcript.duma.gov.ru/node/5085/', 'http://transcript.duma.gov.ru/node/5088/',\n",
    "         'http://transcript.duma.gov.ru/node/5100/', 'http://transcript.duma.gov.ru/node/5106/', 'http://transcript.duma.gov.ru/node/5109/',\n",
    "         'http://transcript.duma.gov.ru/node/5124/', 'http://transcript.duma.gov.ru/node/5136/', 'http://transcript.duma.gov.ru/node/5148/',\n",
    "         'http://transcript.duma.gov.ru/node/5161/', 'http://transcript.duma.gov.ru/node/5170/', 'http://transcript.duma.gov.ru/node/5192/',\n",
    "         'http://transcript.duma.gov.ru/node/5220/', 'http://transcript.duma.gov.ru/node/5232/', 'http://transcript.duma.gov.ru/node/5247/',\n",
    "         'http://transcript.duma.gov.ru/node/5142/']"
   ]
  },
  {
   "cell_type": "code",
   "execution_count": 20,
   "metadata": {},
   "outputs": [],
   "source": [
    "#7-ая сессия ГД седьмого созыва (осень 2019 г.)\n",
    "urls_6 = ['http://transcript.duma.gov.ru/node/5288/', 'http://transcript.duma.gov.ru/node/5266/', 'http://transcript.duma.gov.ru/node/5318/',\n",
    "         'http://transcript.duma.gov.ru/node/5343/', 'http://transcript.duma.gov.ru/node/5315/', 'http://transcript.duma.gov.ru/node/5328/',\n",
    "         'http://transcript.duma.gov.ru/node/5334/', 'http://transcript.duma.gov.ru/node/5269/', 'http://transcript.duma.gov.ru/node/5275/',\n",
    "         'http://transcript.duma.gov.ru/node/5291/', 'http://transcript.duma.gov.ru/node/5294/', 'http://transcript.duma.gov.ru/node/5297/',\n",
    "         'http://transcript.duma.gov.ru/node/5300/', 'http://transcript.duma.gov.ru/node/5337/', 'http://transcript.duma.gov.ru/node/5359/',\n",
    "         'http://transcript.duma.gov.ru/node/5257/', 'http://transcript.duma.gov.ru/node/5272/', 'http://transcript.duma.gov.ru/node/5278/',\n",
    "         'http://transcript.duma.gov.ru/node/5281/', 'http://transcript.duma.gov.ru/node/5303/', 'http://transcript.duma.gov.ru/node/5309/',\n",
    "         'http://transcript.duma.gov.ru/node/5347/', 'http://transcript.duma.gov.ru/node/5350/', 'http://transcript.duma.gov.ru/node/5353/',\n",
    "         'http://transcript.duma.gov.ru/node/5356/', 'http://transcript.duma.gov.ru/node/5365/', 'http://transcript.duma.gov.ru/node/5260/',\n",
    "         'http://transcript.duma.gov.ru/node/5263/', 'http://transcript.duma.gov.ru/node/5284/', 'http://transcript.duma.gov.ru/node/5306/',\n",
    "         'http://transcript.duma.gov.ru/node/5312/', 'http://transcript.duma.gov.ru/node/5321/', 'http://transcript.duma.gov.ru/node/5325/',\n",
    "         'http://transcript.duma.gov.ru/node/5331/', 'http://transcript.duma.gov.ru/node/5340/', 'http://transcript.duma.gov.ru/node/5362/']"
   ]
  },
  {
   "cell_type": "code",
   "execution_count": 21,
   "metadata": {},
   "outputs": [],
   "source": [
    "#8-ая сессия ГД седьмого созыва (весна 2020 г.)\n",
    "urls_7 = ['http://transcript.duma.gov.ru/node/5473/', 'http://transcript.duma.gov.ru/node/5485/', 'http://transcript.duma.gov.ru/node/5491/',\n",
    "         'http://transcript.duma.gov.ru/node/5391/', 'http://transcript.duma.gov.ru/node/5456/', 'http://transcript.duma.gov.ru/node/5464/',\n",
    "         'http://transcript.duma.gov.ru/node/5439/', 'http://transcript.duma.gov.ru/node/5378/', 'http://transcript.duma.gov.ru/node/5448/',\n",
    "         'http://transcript.duma.gov.ru/node/5369/', 'http://transcript.duma.gov.ru/node/5381/', 'http://transcript.duma.gov.ru/node/5400/',\n",
    "         'http://transcript.duma.gov.ru/node/5403/', 'http://transcript.duma.gov.ru/node/5406/', 'http://transcript.duma.gov.ru/node/5427/',\n",
    "         'http://transcript.duma.gov.ru/node/5431/', 'http://transcript.duma.gov.ru/node/5445/', 'http://transcript.duma.gov.ru/node/5457/',\n",
    "         'http://transcript.duma.gov.ru/node/5476/', 'http://transcript.duma.gov.ru/node/5482/', 'http://transcript.duma.gov.ru/node/5375/',\n",
    "         'http://transcript.duma.gov.ru/node/5397/', 'http://transcript.duma.gov.ru/node/5409/', 'http://transcript.duma.gov.ru/node/5415/',\n",
    "         'http://transcript.duma.gov.ru/node/5418/', 'http://transcript.duma.gov.ru/node/5430/', 'http://transcript.duma.gov.ru/node/5452/',\n",
    "         'http://transcript.duma.gov.ru/node/5463/', 'http://transcript.duma.gov.ru/node/5468/', 'http://transcript.duma.gov.ru/node/5488/',\n",
    "         'http://transcript.duma.gov.ru/node/5494/', 'http://transcript.duma.gov.ru/node/5497/', 'http://transcript.duma.gov.ru/node/5372/',\n",
    "         'http://transcript.duma.gov.ru/node/5384/', 'http://transcript.duma.gov.ru/node/5387/', 'http://transcript.duma.gov.ru/node/5394/',\n",
    "         'http://transcript.duma.gov.ru/node/5412/', 'http://transcript.duma.gov.ru/node/5434/', 'http://transcript.duma.gov.ru/node/5442/',\n",
    "         'http://transcript.duma.gov.ru/node/5472/', 'http://transcript.duma.gov.ru/node/5479/', 'http://transcript.duma.gov.ru/node/5500/']"
   ]
  },
  {
   "cell_type": "code",
   "execution_count": 22,
   "metadata": {},
   "outputs": [],
   "source": [
    "#9-ая сессия ГД седьмого созыва (осень 2020 г.)\n",
    "urls_8 = ['http://transcript.duma.gov.ru/node/5511/', 'http://transcript.duma.gov.ru/node/5523/', 'http://transcript.duma.gov.ru/node/5534/',\n",
    "         'http://transcript.duma.gov.ru/node/5518/', 'http://transcript.duma.gov.ru/node/5527/', 'http://transcript.duma.gov.ru/node/5539/',\n",
    "         'http://transcript.duma.gov.ru/node/5504/', 'http://transcript.duma.gov.ru/node/5514/', 'http://transcript.duma.gov.ru/node/5519/',\n",
    "         'http://transcript.duma.gov.ru/node/5529/', 'http://transcript.duma.gov.ru/node/5531/', 'http://transcript.duma.gov.ru/node/5544/',\n",
    "         'http://transcript.duma.gov.ru/node/5547/', 'http://transcript.duma.gov.ru/node/5550/', 'http://transcript.duma.gov.ru/node/5553/',\n",
    "         'http://transcript.duma.gov.ru/node/5558/', 'http://transcript.duma.gov.ru/node/5561/', 'http://transcript.duma.gov.ru/node/5564/',\n",
    "         'http://transcript.duma.gov.ru/node/5570/', 'http://transcript.duma.gov.ru/node/5577/', 'http://transcript.duma.gov.ru/node/5541/',\n",
    "         'http://transcript.duma.gov.ru/node/5557/', 'http://transcript.duma.gov.ru/node/5567/', 'http://transcript.duma.gov.ru/node/5573/',\n",
    "         'http://transcript.duma.gov.ru/node/5507/']"
   ]
  },
  {
   "cell_type": "code",
   "execution_count": 23,
   "metadata": {},
   "outputs": [],
   "source": [
    "#10-ая сессия ГД седьмого созыва (весна 2021 г.)\n",
    "urls_9 = ['http://transcript.duma.gov.ru/node/5615/', 'http://transcript.duma.gov.ru/node/5589/', 'http://transcript.duma.gov.ru/node/5610/',\n",
    "         'http://transcript.duma.gov.ru/node/5617/', 'http://transcript.duma.gov.ru/node/5630/', 'http://transcript.duma.gov.ru/node/5636/',\n",
    "         'http://transcript.duma.gov.ru/node/5670/', 'http://transcript.duma.gov.ru/node/5683/', 'http://transcript.duma.gov.ru/node/5587/',\n",
    "         'http://transcript.duma.gov.ru/node/5604/', 'http://transcript.duma.gov.ru/node/5621/', 'http://transcript.duma.gov.ru/node/5641/',\n",
    "         'http://transcript.duma.gov.ru/node/5649/', 'http://transcript.duma.gov.ru/node/5655/', 'http://transcript.duma.gov.ru/node/5661/',\n",
    "         'http://transcript.duma.gov.ru/node/5674/', 'http://transcript.duma.gov.ru/node/5580/', 'http://transcript.duma.gov.ru/node/5583/',\n",
    "         'http://transcript.duma.gov.ru/node/5595/', 'http://transcript.duma.gov.ru/node/5598/', 'http://transcript.duma.gov.ru/node/5599/',\n",
    "         'http://transcript.duma.gov.ru/node/5608/', 'http://transcript.duma.gov.ru/node/5623/', 'http://transcript.duma.gov.ru/node/5624/',\n",
    "         'http://transcript.duma.gov.ru/node/5629/', 'http://transcript.duma.gov.ru/node/5635/', 'http://transcript.duma.gov.ru/node/5642/',\n",
    "         'http://transcript.duma.gov.ru/node/5648/', 'http://transcript.duma.gov.ru/node/5654/', 'http://transcript.duma.gov.ru/node/5671/',\n",
    "         'http://transcript.duma.gov.ru/node/5677/', 'http://transcript.duma.gov.ru/node/5680/']"
   ]
  },
  {
   "cell_type": "code",
   "execution_count": 24,
   "metadata": {},
   "outputs": [],
   "source": [
    "urls_all =[*urls_0, *urls_1, *urls_2, *urls_3, *urls_4, *urls_5, *urls_6, *urls_7, *urls_8, *urls_9]"
   ]
  },
  {
   "cell_type": "code",
   "execution_count": 25,
   "metadata": {},
   "outputs": [],
   "source": [
    "for url in urls_all:\n",
    "    get_words(url)"
   ]
  },
  {
   "cell_type": "code",
   "execution_count": null,
   "metadata": {},
   "outputs": [],
   "source": []
  }
 ],
 "metadata": {
  "kernelspec": {
   "display_name": "Python 3 (ipykernel)",
   "language": "python",
   "name": "python3"
  },
  "language_info": {
   "codemirror_mode": {
    "name": "ipython",
    "version": 3
   },
   "file_extension": ".py",
   "mimetype": "text/x-python",
   "name": "python",
   "nbconvert_exporter": "python",
   "pygments_lexer": "ipython3",
   "version": "3.9.13"
  }
 },
 "nbformat": 4,
 "nbformat_minor": 2
}
